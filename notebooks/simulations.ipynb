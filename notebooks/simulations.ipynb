{
 "cells": [
  {
   "cell_type": "markdown",
   "metadata": {},
   "source": [
    "# Model Criticism for Bayesian Causal Inference\n"
   ]
  },
  {
   "cell_type": "markdown",
   "metadata": {},
   "source": [
    "## Imports <a class=\"anchor\" id=\"imports21\"></a>"
   ]
  },
  {
   "cell_type": "code",
   "execution_count": 1,
   "metadata": {},
   "outputs": [],
   "source": [
    "import os\n",
    "os.chdir('/Users/lguelman/Library/Mobile Documents/com~apple~CloudDocs/LG_Files/Development/MCBCI/python')\n",
    "\n",
    "import numpy as np\n",
    "import pandas as pd\n",
    "\n",
    "import matplotlib.pyplot as plt\n",
    "parameters = {'figure.figsize': (8, 4),\n",
    "              'font.size': 6, \n",
    "              'axes.labelsize': 10}\n",
    "plt.rcParams.update(parameters)\n",
    "plt.style.use('fivethirtyeight')\n",
    "from IPython.display import Image\n",
    "\n",
    "import pystan\n",
    "import multiprocessing\n",
    "import stan_utility\n",
    "import arviz as az\n",
    "\n",
    "import seaborn as sns\n",
    "from utils import stan_model_summary, DataGeneratingProcess"
   ]
  },
  {
   "cell_type": "markdown",
   "metadata": {},
   "source": [
    "## 1. Generate syntehic data \n",
    "\n",
    "We generate synthetic data according to Section 4.1 of the [paper](https://arxiv.org/abs/1610.09037) with minor variants. We generate 500 data points, each with a 10-dimensional covariate $x_i$, a binary treatment $a_i$, and a set of potential outcomes $(y_i(0), y_i(1))$,\n",
    "\n",
    "\\begin{align*} \n",
    "x_i &\\sim  \\text{Uniform}\\big(x_i~\\vert~[0,1]^{10} \\big), \\\\ \n",
    "a_i~\\vert~x_i &\\sim \\text{Bernoulli} \\big(a_i~\\vert~ \\text{logistic}(x_i^\\intercal \\phi)  \\big) \\\\\n",
    "y_i(a)~\\vert~x_i &\\sim \\mathscr{N} \\big(y_i(a)~\\vert~[x_i,a]^\\intercal \\theta, \\sigma^2  \\big) \\\\\n",
    "\\phi, \\theta &\\sim \\mathscr{N}(0,1) \\\\\n",
    "\\sigma^2 &\\sim \\text{Gamma}(1,1) \\\\\n",
    "\\end{align*}\n",
    "\n",
    "We further assume no correlation $\\rho$ between potential outcomes below. However, this can be modified by changing  the parameter `rho` in the code below. "
   ]
  },
  {
   "cell_type": "code",
   "execution_count": 2,
   "metadata": {},
   "outputs": [
    {
     "data": {
      "text/html": [
       "<div>\n",
       "<style scoped>\n",
       "    .dataframe tbody tr th:only-of-type {\n",
       "        vertical-align: middle;\n",
       "    }\n",
       "\n",
       "    .dataframe tbody tr th {\n",
       "        vertical-align: top;\n",
       "    }\n",
       "\n",
       "    .dataframe thead th {\n",
       "        text-align: right;\n",
       "    }\n",
       "</style>\n",
       "<table border=\"1\" class=\"dataframe\">\n",
       "  <thead>\n",
       "    <tr style=\"text-align: right;\">\n",
       "      <th></th>\n",
       "      <th>y_obs</th>\n",
       "      <th>y_mis</th>\n",
       "      <th>y0</th>\n",
       "      <th>y1</th>\n",
       "      <th>tau_unit</th>\n",
       "      <th>a</th>\n",
       "      <th>X1</th>\n",
       "      <th>X2</th>\n",
       "      <th>X3</th>\n",
       "      <th>X4</th>\n",
       "      <th>X5</th>\n",
       "      <th>X6</th>\n",
       "      <th>X7</th>\n",
       "      <th>X8</th>\n",
       "      <th>X9</th>\n",
       "      <th>X10</th>\n",
       "    </tr>\n",
       "  </thead>\n",
       "  <tbody>\n",
       "    <tr>\n",
       "      <th>0</th>\n",
       "      <td>-0.355080</td>\n",
       "      <td>1.924043</td>\n",
       "      <td>-0.355080</td>\n",
       "      <td>1.924043</td>\n",
       "      <td>2.279124</td>\n",
       "      <td>0</td>\n",
       "      <td>0.903661</td>\n",
       "      <td>0.896010</td>\n",
       "      <td>0.589950</td>\n",
       "      <td>0.987273</td>\n",
       "      <td>0.851603</td>\n",
       "      <td>0.208817</td>\n",
       "      <td>0.766623</td>\n",
       "      <td>0.032806</td>\n",
       "      <td>0.296746</td>\n",
       "      <td>0.570360</td>\n",
       "    </tr>\n",
       "    <tr>\n",
       "      <th>1</th>\n",
       "      <td>2.246395</td>\n",
       "      <td>-0.049397</td>\n",
       "      <td>-0.049397</td>\n",
       "      <td>2.246395</td>\n",
       "      <td>2.295791</td>\n",
       "      <td>1</td>\n",
       "      <td>0.834669</td>\n",
       "      <td>0.160730</td>\n",
       "      <td>0.348411</td>\n",
       "      <td>0.030891</td>\n",
       "      <td>0.986353</td>\n",
       "      <td>0.501477</td>\n",
       "      <td>0.437794</td>\n",
       "      <td>0.652700</td>\n",
       "      <td>0.470989</td>\n",
       "      <td>0.948481</td>\n",
       "    </tr>\n",
       "    <tr>\n",
       "      <th>2</th>\n",
       "      <td>2.486919</td>\n",
       "      <td>4.878609</td>\n",
       "      <td>2.486919</td>\n",
       "      <td>4.878609</td>\n",
       "      <td>2.391690</td>\n",
       "      <td>0</td>\n",
       "      <td>0.587839</td>\n",
       "      <td>0.020352</td>\n",
       "      <td>0.817677</td>\n",
       "      <td>0.977189</td>\n",
       "      <td>0.177341</td>\n",
       "      <td>0.849895</td>\n",
       "      <td>0.906638</td>\n",
       "      <td>0.699583</td>\n",
       "      <td>0.717297</td>\n",
       "      <td>0.576994</td>\n",
       "    </tr>\n",
       "    <tr>\n",
       "      <th>3</th>\n",
       "      <td>3.665241</td>\n",
       "      <td>1.605872</td>\n",
       "      <td>1.605872</td>\n",
       "      <td>3.665241</td>\n",
       "      <td>2.059369</td>\n",
       "      <td>1</td>\n",
       "      <td>0.398804</td>\n",
       "      <td>0.246183</td>\n",
       "      <td>0.523785</td>\n",
       "      <td>0.471349</td>\n",
       "      <td>0.020301</td>\n",
       "      <td>0.634659</td>\n",
       "      <td>0.927902</td>\n",
       "      <td>0.888842</td>\n",
       "      <td>0.703946</td>\n",
       "      <td>0.204001</td>\n",
       "    </tr>\n",
       "    <tr>\n",
       "      <th>4</th>\n",
       "      <td>-0.151500</td>\n",
       "      <td>1.480845</td>\n",
       "      <td>-0.151500</td>\n",
       "      <td>1.480845</td>\n",
       "      <td>1.632345</td>\n",
       "      <td>0</td>\n",
       "      <td>0.836528</td>\n",
       "      <td>0.774359</td>\n",
       "      <td>0.919492</td>\n",
       "      <td>0.569234</td>\n",
       "      <td>0.779445</td>\n",
       "      <td>0.185953</td>\n",
       "      <td>0.868888</td>\n",
       "      <td>0.660685</td>\n",
       "      <td>0.276374</td>\n",
       "      <td>0.231046</td>\n",
       "    </tr>\n",
       "    <tr>\n",
       "      <th>...</th>\n",
       "      <td>...</td>\n",
       "      <td>...</td>\n",
       "      <td>...</td>\n",
       "      <td>...</td>\n",
       "      <td>...</td>\n",
       "      <td>...</td>\n",
       "      <td>...</td>\n",
       "      <td>...</td>\n",
       "      <td>...</td>\n",
       "      <td>...</td>\n",
       "      <td>...</td>\n",
       "      <td>...</td>\n",
       "      <td>...</td>\n",
       "      <td>...</td>\n",
       "      <td>...</td>\n",
       "      <td>...</td>\n",
       "    </tr>\n",
       "    <tr>\n",
       "      <th>495</th>\n",
       "      <td>0.011190</td>\n",
       "      <td>2.039205</td>\n",
       "      <td>0.011190</td>\n",
       "      <td>2.039205</td>\n",
       "      <td>2.028015</td>\n",
       "      <td>0</td>\n",
       "      <td>0.621539</td>\n",
       "      <td>0.915605</td>\n",
       "      <td>0.606129</td>\n",
       "      <td>0.818001</td>\n",
       "      <td>0.221810</td>\n",
       "      <td>0.684723</td>\n",
       "      <td>0.639255</td>\n",
       "      <td>0.157652</td>\n",
       "      <td>0.979599</td>\n",
       "      <td>0.064534</td>\n",
       "    </tr>\n",
       "    <tr>\n",
       "      <th>496</th>\n",
       "      <td>3.286602</td>\n",
       "      <td>0.806697</td>\n",
       "      <td>0.806697</td>\n",
       "      <td>3.286602</td>\n",
       "      <td>2.479904</td>\n",
       "      <td>1</td>\n",
       "      <td>0.593499</td>\n",
       "      <td>0.713316</td>\n",
       "      <td>0.609092</td>\n",
       "      <td>0.450044</td>\n",
       "      <td>0.069620</td>\n",
       "      <td>0.503841</td>\n",
       "      <td>0.571416</td>\n",
       "      <td>0.575057</td>\n",
       "      <td>0.662503</td>\n",
       "      <td>0.689368</td>\n",
       "    </tr>\n",
       "    <tr>\n",
       "      <th>497</th>\n",
       "      <td>1.815444</td>\n",
       "      <td>3.980675</td>\n",
       "      <td>1.815444</td>\n",
       "      <td>3.980675</td>\n",
       "      <td>2.165231</td>\n",
       "      <td>0</td>\n",
       "      <td>0.316736</td>\n",
       "      <td>0.763296</td>\n",
       "      <td>0.181927</td>\n",
       "      <td>0.506575</td>\n",
       "      <td>0.361373</td>\n",
       "      <td>0.995647</td>\n",
       "      <td>0.226801</td>\n",
       "      <td>0.827097</td>\n",
       "      <td>0.517792</td>\n",
       "      <td>0.622547</td>\n",
       "    </tr>\n",
       "    <tr>\n",
       "      <th>498</th>\n",
       "      <td>3.007869</td>\n",
       "      <td>0.867875</td>\n",
       "      <td>0.867875</td>\n",
       "      <td>3.007869</td>\n",
       "      <td>2.139993</td>\n",
       "      <td>1</td>\n",
       "      <td>0.064120</td>\n",
       "      <td>0.253654</td>\n",
       "      <td>0.339305</td>\n",
       "      <td>0.258092</td>\n",
       "      <td>0.032000</td>\n",
       "      <td>0.290471</td>\n",
       "      <td>0.342010</td>\n",
       "      <td>0.493644</td>\n",
       "      <td>0.510703</td>\n",
       "      <td>0.632596</td>\n",
       "    </tr>\n",
       "    <tr>\n",
       "      <th>499</th>\n",
       "      <td>1.816440</td>\n",
       "      <td>3.778707</td>\n",
       "      <td>1.816440</td>\n",
       "      <td>3.778707</td>\n",
       "      <td>1.962267</td>\n",
       "      <td>0</td>\n",
       "      <td>0.012971</td>\n",
       "      <td>0.279319</td>\n",
       "      <td>0.578296</td>\n",
       "      <td>0.684492</td>\n",
       "      <td>0.196573</td>\n",
       "      <td>0.738876</td>\n",
       "      <td>0.918291</td>\n",
       "      <td>0.741844</td>\n",
       "      <td>0.254321</td>\n",
       "      <td>0.140409</td>\n",
       "    </tr>\n",
       "  </tbody>\n",
       "</table>\n",
       "<p>500 rows × 16 columns</p>\n",
       "</div>"
      ],
      "text/plain": [
       "        y_obs     y_mis        y0        y1  tau_unit  a        X1        X2  \\\n",
       "0   -0.355080  1.924043 -0.355080  1.924043  2.279124  0  0.903661  0.896010   \n",
       "1    2.246395 -0.049397 -0.049397  2.246395  2.295791  1  0.834669  0.160730   \n",
       "2    2.486919  4.878609  2.486919  4.878609  2.391690  0  0.587839  0.020352   \n",
       "3    3.665241  1.605872  1.605872  3.665241  2.059369  1  0.398804  0.246183   \n",
       "4   -0.151500  1.480845 -0.151500  1.480845  1.632345  0  0.836528  0.774359   \n",
       "..        ...       ...       ...       ...       ... ..       ...       ...   \n",
       "495  0.011190  2.039205  0.011190  2.039205  2.028015  0  0.621539  0.915605   \n",
       "496  3.286602  0.806697  0.806697  3.286602  2.479904  1  0.593499  0.713316   \n",
       "497  1.815444  3.980675  1.815444  3.980675  2.165231  0  0.316736  0.763296   \n",
       "498  3.007869  0.867875  0.867875  3.007869  2.139993  1  0.064120  0.253654   \n",
       "499  1.816440  3.778707  1.816440  3.778707  1.962267  0  0.012971  0.279319   \n",
       "\n",
       "           X3        X4        X5        X6        X7        X8        X9  \\\n",
       "0    0.589950  0.987273  0.851603  0.208817  0.766623  0.032806  0.296746   \n",
       "1    0.348411  0.030891  0.986353  0.501477  0.437794  0.652700  0.470989   \n",
       "2    0.817677  0.977189  0.177341  0.849895  0.906638  0.699583  0.717297   \n",
       "3    0.523785  0.471349  0.020301  0.634659  0.927902  0.888842  0.703946   \n",
       "4    0.919492  0.569234  0.779445  0.185953  0.868888  0.660685  0.276374   \n",
       "..        ...       ...       ...       ...       ...       ...       ...   \n",
       "495  0.606129  0.818001  0.221810  0.684723  0.639255  0.157652  0.979599   \n",
       "496  0.609092  0.450044  0.069620  0.503841  0.571416  0.575057  0.662503   \n",
       "497  0.181927  0.506575  0.361373  0.995647  0.226801  0.827097  0.517792   \n",
       "498  0.339305  0.258092  0.032000  0.290471  0.342010  0.493644  0.510703   \n",
       "499  0.578296  0.684492  0.196573  0.738876  0.918291  0.741844  0.254321   \n",
       "\n",
       "          X10  \n",
       "0    0.570360  \n",
       "1    0.948481  \n",
       "2    0.576994  \n",
       "3    0.204001  \n",
       "4    0.231046  \n",
       "..        ...  \n",
       "495  0.064534  \n",
       "496  0.689368  \n",
       "497  0.622547  \n",
       "498  0.632596  \n",
       "499  0.140409  \n",
       "\n",
       "[500 rows x 16 columns]"
      ]
     },
     "execution_count": 2,
     "metadata": {},
     "output_type": "execute_result"
    }
   ],
   "source": [
    "dgp = DataGeneratingProcess(N=500, d=10, rho=0.0, seed=432)\n",
    "data = dgp.generate_data()\n",
    "data.df"
   ]
  },
  {
   "cell_type": "markdown",
   "metadata": {},
   "source": [
    "## 2. Model-Based Inference \n",
    "\n",
    "We approximate the posterior with MCMC in [Stan](https://mc-stan.org/) under three alternative causal models. We obtain 2000 samples from the posterior of all variables in the causal model: $y(0),~y(1),~\\mathbf{a},~\\phi,~\\theta,~ \\text{and}~\\sigma^2$.The correlation between potential outcomes, $\\rho$, is the only parameter about which the observed data cannot provide empirical information becuase $y_i(0)$ and $y_i(1)$ are never observed simultaneously. Thus, model-based inference requires subject-matter knowledge and sensible assumptions on the joint distribution of potential outcomes.\n",
    "\n",
    "There are two sources of uncertainty in the posterior predictive distribution of the missing potential outcomes $P(y^{\\text{miss}} | y^{\\text{obs}}, a)$: the first is the uncertainty in the estimated latent variables $\\theta, ~\\sigma^2$ (a.k.a., *epistemic uncertainty*), and the second in the uncertainty in the data as expressed by the Gaussian random sampling mechanism (a.k.a., *aleatoric uncertainty*). The same holds for the posterior predictive distribution of the treatment assignment, with epistemic uncertainty being determined by the posterior distribution $P(\\phi|x, y(\\mathbf{a}), \\mathbf{a})$ and aleatoric uncertainty determined by Bernoulli random sampling process $P(\\mathbf{a}|x, \\phi)$. \n"
   ]
  },
  {
   "cell_type": "markdown",
   "metadata": {},
   "source": [
    "### 2.1. Case A: The Correct Model\n",
    "\n",
    "Assume we implement a model that is faithful to the specification above."
   ]
  },
  {
   "cell_type": "code",
   "execution_count": null,
   "metadata": {},
   "outputs": [
    {
     "name": "stderr",
     "output_type": "stream",
     "text": [
      "INFO:pystan:COMPILING THE C++ CODE FOR MODEL anon_model_2def3f13bc8af20e80367b2d3b35c7db NOW.\n"
     ]
    }
   ],
   "source": [
    "stan_data_dict = {'N': data.N,       # sample size\n",
    "                  'd_a': data.d,     # number of covariates in the assignment model\n",
    "                  'd_o': data.d,     # number of covariates in the outcome model\n",
    "                  'X_a': data.X,     # covariates matrix for assignment model\n",
    "                  'X_o': data.X,     # covariates matrix for outcome model  \n",
    "                  'y': data.y_obs,   # observed outcome\n",
    "                  'a': data.a,       # treatment assigned\n",
    "                  'rho': 0.0,        # correlation between the potential outcomes (assumed)\n",
    "                  'a_miss':0,        # assignment model misspecified(1), or not (0). \n",
    "                  }\n",
    "\n",
    "sm = pystan.StanModel('../stan/mbi_stan.stan') \n",
    "multiprocessing.set_start_method(\"fork\", force=True)\n",
    "fit_a = sm.sampling(data=stan_data_dict, iter=1000, chains=4)"
   ]
  },
  {
   "cell_type": "code",
   "execution_count": null,
   "metadata": {},
   "outputs": [],
   "source": []
  },
  {
   "cell_type": "markdown",
   "metadata": {},
   "source": [
    "### 2.2. Case B: Misspecified Outcome Model\n",
    "\n",
    "Assume we misspecify the distribution over $y_i(a)$ by ignoring the first entry on $x_i$ (i.e., $\\theta_1=0$)."
   ]
  },
  {
   "cell_type": "code",
   "execution_count": null,
   "metadata": {},
   "outputs": [],
   "source": [
    "stan_data_dict_b = {'N': data.N,\n",
    "                    'd_a': data.d,\n",
    "                    'd_o': data.d-1,\n",
    "                    'X_a': data.X,\n",
    "                    'X_o': data.X[:,1:10],\n",
    "                    'y': data.y_obs,\n",
    "                    'a': data.a,\n",
    "                    'rho': 0.0,\n",
    "                    'a_miss':0,\n",
    "                   }\n",
    "\n",
    "sm_b = pystan.StanModel('../stan/mbi_stan.stan') \n",
    "multiprocessing.set_start_method(\"fork\", force=True)\n",
    "fit_b = sm_b.sampling(data=stan_data_dict_b, iter=1000, chains=4)\n"
   ]
  },
  {
   "cell_type": "code",
   "execution_count": null,
   "metadata": {},
   "outputs": [],
   "source": []
  },
  {
   "cell_type": "markdown",
   "metadata": {},
   "source": [
    "### 2.3. Case C: Misspecified Assignment Model\n",
    "\n",
    "Assume we misspecify the distribution over $a_i$ by setting the probability that $a_i=1$ to: $~0.7+0.3 \\times \\text{logistic}(x_i^\\intercal \\phi)$.\n",
    "\n"
   ]
  },
  {
   "cell_type": "code",
   "execution_count": null,
   "metadata": {},
   "outputs": [],
   "source": [
    "stan_data_dict_c = {'N': data.N,\n",
    "                    'd_a': data.d,\n",
    "                    'd_o': data.d,\n",
    "                    'X_a': data.X,\n",
    "                    'X_o': data.X,\n",
    "                    'y': data.y_obs,\n",
    "                    'a': data.a,\n",
    "                    'rho': 0.0,\n",
    "                    'a_miss':1,\n",
    "                    }\n"
   ]
  },
  {
   "cell_type": "code",
   "execution_count": null,
   "metadata": {},
   "outputs": [],
   "source": [
    "sm_c = pystan.StanModel('../stan/mbi_stan.stan') \n",
    "multiprocessing.set_start_method(\"fork\", force=True)\n",
    "fit_c = sm_c.sampling(data=stan_data_dict_c, iter=1000, chains=4)\n"
   ]
  },
  {
   "cell_type": "code",
   "execution_count": null,
   "metadata": {},
   "outputs": [],
   "source": []
  },
  {
   "cell_type": "code",
   "execution_count": null,
   "metadata": {},
   "outputs": [],
   "source": []
  },
  {
   "cell_type": "markdown",
   "metadata": {},
   "source": [
    "## 3. Model Criticism \n",
    "\n",
    "Model criticism measures the degree to which a model falsely describes the data. The central tool for this is the posterior predictive check (PPC). It quantifies the degree to which data generated from the model deviate from the observe data."
   ]
  },
  {
   "cell_type": "markdown",
   "metadata": {},
   "source": [
    "### 3.1. Criticizing the Assignment Model\n",
    "\n",
    "We plot below the *reference discrepancy* vs. *realized discrepancy*. We've used mean probability of assignment instead of log-likelihood as the discrepancy function."
   ]
  },
  {
   "cell_type": "code",
   "execution_count": 7,
   "metadata": {},
   "outputs": [
    {
     "name": "stderr",
     "output_type": "stream",
     "text": [
      "INFO:numexpr.utils:NumExpr defaulting to 8 threads.\n"
     ]
    },
    {
     "data": {
      "text/plain": [
       "<matplotlib.legend.Legend at 0x7fe14ec9da90>"
      ]
     },
     "execution_count": 7,
     "metadata": {},
     "output_type": "execute_result"
    },
    {
     "data": {
      "image/png": "[encoded data removed]",
      "text/plain": [
       "<Figure size 576x288 with 1 Axes>"
      ]
     },
     "metadata": {},
     "output_type": "display_data"
    }
   ],
   "source": [
    "samples_a = fit_a.extract(permuted=True)\n",
    "\n",
    "p_phi_a = samples_a['phi']\n",
    "p_a_rep_a = samples_a['a_rep']\n",
    "\n",
    "p = sns.histplot(data=np.mean(p_a_rep_a, axis=1), stat=\"density\", label=\"Reference\") \n",
    "p.set(xlabel='Average prob of assignment', title='Correct Specification')\n",
    "plt.axvline(np.quantile(np.mean(p_a_rep_a, axis=1), .1), color='g', linestyle='--', label='90% intervals')\n",
    "plt.axvline(np.quantile(np.mean(p_a_rep_a, axis=1), .9), color='g', linestyle='--')\n",
    "plt.axvline(np.mean(data.a), color='r', label='Realized')\n",
    "plt.legend(loc=\"upper right\", fontsize='small')\n",
    "\n"
   ]
  },
  {
   "cell_type": "code",
   "execution_count": 8,
   "metadata": {},
   "outputs": [
    {
     "data": {
      "text/plain": [
       "<matplotlib.legend.Legend at 0x7fe14774c130>"
      ]
     },
     "execution_count": 8,
     "metadata": {},
     "output_type": "execute_result"
    },
    {
     "data": {
      "image/png": "[encoded data removed]",
      "text/plain": [
       "<Figure size 576x288 with 1 Axes>"
      ]
     },
     "metadata": {},
     "output_type": "display_data"
    }
   ],
   "source": [
    "samples_c = fit_c.extract(permuted=True)\n",
    "\n",
    "p_phi_c = samples_c['phi']\n",
    "p_a_rep_c = samples_c['a_rep']\n",
    "\n",
    "p = sns.histplot(data=np.mean(p_a_rep_c, axis=1), stat=\"density\", label=\"Reference\")\n",
    "p.set(xlabel='Average prob of assignment', title='Wrong Assignment Model')\n",
    "plt.axvline(np.quantile(np.mean(p_a_rep_c, axis=1), .1), color='g', linestyle='--', label='90% intervals')\n",
    "plt.axvline(np.quantile(np.mean(p_a_rep_c, axis=1), .9), color='g', linestyle='--')\n",
    "plt.axvline(np.mean(data.a), color='r', label='Realized')\n",
    "plt.legend(loc=\"upper right\", fontsize='small')"
   ]
  },
  {
   "cell_type": "code",
   "execution_count": null,
   "metadata": {},
   "outputs": [],
   "source": []
  },
  {
   "cell_type": "markdown",
   "metadata": {},
   "source": [
    "### 3.1. Criticizing the Outcome Model"
   ]
  },
  {
   "cell_type": "code",
   "execution_count": 20,
   "metadata": {},
   "outputs": [
    {
     "data": {
      "image/png": "[encoded data removed]",
      "text/plain": [
       "<Figure size 576x288 with 1 Axes>"
      ]
     },
     "metadata": {},
     "output_type": "display_data"
    }
   ],
   "source": [
    "tau_unit_rep = samples_a['tau_unit'] # posterior samples from unit level treatment-effect\n",
    "p = sns.histplot(data=np.mean(tau_unit_rep, axis=1), stat=\"density\", label=\"Reference\")\n",
    "\n"
   ]
  },
  {
   "cell_type": "code",
   "execution_count": 24,
   "metadata": {},
   "outputs": [
    {
     "data": {
      "image/png": "[encoded data removed]",
      "text/plain": [
       "<Figure size 576x288 with 1 Axes>"
      ]
     },
     "metadata": {},
     "output_type": "display_data"
    }
   ],
   "source": [
    "post_tau = samples_a['tau'] # posterior samples from population average treatment effect.\n",
    "p = sns.histplot(data=post_tau, stat=\"density\", label=\"Reference\")\n"
   ]
  },
  {
   "cell_type": "markdown",
   "metadata": {},
   "source": [
    "## 2.2 Data  <a class=\"anchor\" id=\"data22\"></a>"
   ]
  },
  {
   "cell_type": "code",
   "execution_count": null,
   "metadata": {},
   "outputs": [],
   "source": [
    "df = pd.read_csv(\"../data/synthetic_data.csv\")\n",
    "df\n",
    "df.info()\n",
    "df.describe()"
   ]
  },
  {
   "cell_type": "markdown",
   "metadata": {},
   "source": [
    "## 2.3 Assessing Balance of Covariates <a class=\"anchor\" id=\"balance23\"></a>\n",
    "\n",
    "Covariate balance is the degree to which the distribution of covariates is similar across levels of the treatment. Here we assess the extent to which the treatment assignment was uniformly randomized across observational units, or there are some selection effects. To that end, we use *Prognostic scores* (Hansen 2008). The prognostic score is defined as the predicted outcome under the control condition, reflecting the baseline \"risk\", i.e., $E(Y|X, Z=0)$. It is estimated by fitting a model of the outcome in the control group, and then using that model to obtain predictions of the outcome under the control condition for all individuals. The standardize difference in the mean prognostic scores between treatment and control groups is used as a measure of covariate balance. \n",
    "\n",
    "Here we fit a Bayesian linear regression model to get a posterior distribution of the standardize difference in the mean prognostic scores between treatment and control groups.\n",
    "\n",
    "We first pre-process the data (encode categorical features and scaling)."
   ]
  },
  {
   "cell_type": "code",
   "execution_count": null,
   "metadata": {},
   "outputs": [],
   "source": [
    "X, z, y, *_ = pre_process_data(df, standardize_x=False, interactions=False, \n",
    "                               p_score=None, drop_first=False)\n",
    "\n",
    "print(\"Features dimension:\", X.shape)\n",
    "print(\"Treatment dimension:\", z.shape)\n",
    "print(\"Response dimension:\", y.shape)\n",
    "print(\"Number of treated / control units:\", sum(z), \"/\", X.shape[0]-sum(z))"
   ]
  },
  {
   "cell_type": "markdown",
   "metadata": {},
   "source": [
    "We now fit the model in [stan](https://mc-stan.org/). We place the stan code separately in `stan_linear_reg.stan`, stored in the repo."
   ]
  },
  {
   "cell_type": "code",
   "execution_count": null,
   "metadata": {},
   "outputs": [],
   "source": [
    "n, p = X[z==0,:].shape # Fit model using control units only\n",
    "\n",
    "stan_data_dict = {'N': n,\n",
    "                  'K': p,\n",
    "                  'x': X[z==0,:],\n",
    "                  'y': y[z==0],\n",
    "                  'N_new': X.shape[0],\n",
    "                  'x_new': X\n",
    "                  }\n",
    "\n",
    "sm = pystan.StanModel('../stan/stan_linear_reg.stan') \n",
    "multiprocessing.set_start_method(\"fork\", force=True)\n",
    "fit = sm.sampling(data=stan_data_dict, iter=1000, chains=4)"
   ]
  },
  {
   "cell_type": "code",
   "execution_count": null,
   "metadata": {},
   "outputs": [],
   "source": [
    "fit_summary = stan_model_summary(fit)\n",
    "fit_summary"
   ]
  },
  {
   "cell_type": "markdown",
   "metadata": {},
   "source": [
    "The standardize mean difference in Prognostic scores is positive meaning that students with highest potential outcomes under control are more likely to receive treatment. This can also be appreciated by plotting the proportion of individuals assigned to treatment for by quantile of the prognostic score (each quantile comprises about 1/5 of the observations). In this case, we say that the treatment assignment mechanisms is *counfounded* with the potential outcomes.\n",
    "\n",
    "In this context, a simple comparison of treated versus control individuals would produce bias estimates of treatment effects (both average and conditional effects). Therefore, appropriately accounting for confounding is a first-order concern. We thus proceed the analysis as an observational study instead on a randomized one. Specifically, to address this problem we directly incorporate an estimate of the *propensity score* in the specification of the outcome model, implicitly inducing a covariate dependent prior on the regression function (see Hahn 2020).\n",
    "\n",
    "\n"
   ]
  },
  {
   "cell_type": "code",
   "execution_count": null,
   "metadata": {},
   "outputs": [],
   "source": [
    "# Extract prognostic scores\n",
    "samples = fit.extract(permuted=True)\n",
    "prog_scores = samples['prog_scores'].T\n",
    "\n",
    "# Compute mean and standardize mean differences in scores\n",
    "mcmc_samples = prog_scores.shape[1]\n",
    "prog_scores_diff = np.zeros(mcmc_samples)\n",
    "prog_scores_std_diff = np.zeros(mcmc_samples)\n",
    "\n",
    "for s in range(mcmc_samples):\n",
    "    prog_scores_diff[s] = np.mean(prog_scores[z==1,s]) - np.mean(prog_scores[z==0,s])\n",
    "    prog_scores_std_diff[s] = prog_scores_diff[s] / np.std(prog_scores[:,s])\n",
    "  \n",
    "                               \n",
    "plt.hist(prog_scores_std_diff, bins = 30)\n",
    "plt.title(\"Standardized mean difference in Prognostic scores\", fontsize=12)\n",
    "plt.show()  \n"
   ]
  },
  {
   "cell_type": "code",
   "execution_count": null,
   "metadata": {
    "scrolled": true
   },
   "outputs": [],
   "source": [
    "# Compute proportion treated by mean prognostic score quantile\n",
    "prog_scores_df = pd.DataFrame({'prog_score_mean': np.mean(prog_scores, axis =1),'z':z})\n",
    "prog_scores_df['prog_score_mean_quantile']= pd.qcut(prog_scores_df['prog_score_mean'], \n",
    "                                                    q = 5, labels = False)+1\n",
    "prog_scores_df.groupby(['prog_score_mean_quantile'])['z'].mean().plot(xticks=list(range(1,6)), \n",
    "                                                                     xlabel='Mean Prognostic Score (Quantile)',\n",
    "                                                                     ylabel='Proportion Treated')"
   ]
  },
  {
   "cell_type": "markdown",
   "metadata": {},
   "source": [
    "## 2.4 Propensity Score <a class=\"anchor\" id=\"propscore24\"></a>\n",
    "\n",
    "The propensity score is the probability of treatment assignment conditional on observed baseline covariates, i.e., $E(Z|X)$. Here we fit the propensity score using a flexible non-linear specification based on a Gradient Boosting method. Parameter tuning is done via cross-validated random search."
   ]
  },
  {
   "cell_type": "code",
   "execution_count": null,
   "metadata": {},
   "outputs": [],
   "source": [
    "param_grid = {\n",
    "        'min_child_weight': [1, 5, 10],\n",
    "        'gamma': [0.5, 1, 1.5, 2, 5],\n",
    "        'subsample': [0.6, 0.8, 1.0],\n",
    "        'colsample_bytree': [0.6, 0.8, 1.0],\n",
    "        'max_depth': [3, 4, 5]\n",
    "        }\n",
    "\n",
    "n_folds = 3\n",
    "param_n_picks = 30\n",
    "\n",
    "xgb = XGBClassifier(learning_rate=0.01, n_estimators=500, objective='binary:logistic',\n",
    "                    silent=True, nthread=1)\n",
    "\n",
    "skf = StratifiedKFold(n_splits=n_folds, shuffle = True, random_state = 42)\n",
    "\n",
    "xgb_fits = RandomizedSearchCV(xgb, param_distributions=param_grid,\n",
    "                              n_iter=param_n_picks, scoring='roc_auc', n_jobs=-1, \n",
    "                              cv=skf.split(X,z), verbose=3, random_state=42)\n",
    "\n",
    "xgb_fits.fit(X, z)\n",
    "\n",
    "print('\\n Best estimator:')\n",
    "print(xgb_fits.best_estimator_)\n",
    "#print('\\n Best AUC score:')\n",
    "#print(xgb_fits.best_score_)\n",
    "print('\\n Best hyperparameters:')\n",
    "print(xgb_fits.best_params_)\n",
    "\n",
    "# We now fit the best estimator to all train data \n",
    "best_fit = xgb_fits.best_estimator_.fit(X, z)\n",
    "pscore = best_fit.predict_proba(X)[:,1]\n",
    "log_odds_pscore = np.log(pscore /(1-pscore))"
   ]
  },
  {
   "cell_type": "code",
   "execution_count": null,
   "metadata": {},
   "outputs": [],
   "source": [
    "prop_score_df = pd.DataFrame({'log_odds_pscore': log_odds_pscore, 'Z':z})\n",
    "sns.displot(prop_score_df, x=\"log_odds_pscore\", \n",
    "            hue=\"Z\",  stat=\"density\", common_norm=False)"
   ]
  },
  {
   "cell_type": "markdown",
   "metadata": {},
   "source": [
    "## 2.5 Model-based Inference <a class=\"anchor\" id=\"mbinference25\"></a>\n",
    "\n",
    "\n",
    "We implement the Bayesian inference framework for causal effects introduced by Rubin (1978). In this framework, each observational unit $i=\\{1,\\ldots, N\\}$ is seen as having a potential outcome for each level of treatment. In the binary treatment case with $Z \\in [0,1]$, $Y_i(1)$ and $Y_i(0)$ represent the potential outcomes of unit $i$ under $Z=1$ and \n",
    "$Z=0$, respectively. Causal inference is considered a missing data problem since both potential outcomes are never jointly observed. Specifically, observed and missing outcomes can be expressed in terms of the potential outcomes as follows:\n",
    "\n",
    "\\begin{align*} \n",
    "Y_i^{\\text{obs}} &=  Y_i(1)Z_i + Y_i(0)(1-Z_i) \\\\ \n",
    "Y_i^{\\text{mis}} &=  Y_i(1)(1-Z_i) + Y_i(0)Z_i\n",
    "\\end{align*}\n",
    "\n",
    "\n",
    "From a Bayesian perspective, $Y_i^{\\text{mis}}$ is considered a latent variable, similar to any other latent variable in the model (I'm trying to avoid the term \"parameters\" here, which is more common in the frequentist language). The missing potential outcomes can be imputed by estimating their posterior predictive distribution given the observed data. That is,\n",
    "\n",
    "$$\n",
    "\\text{Pr}(Y^{\\text{mis}}| Y^{\\text{obs}},Z, X).\n",
    "$$\n",
    "\n",
    "Estimating the conditional distribution of $Y^{\\text{mis}}$ given $(Y^{\\text{obs}},Z, X)$, requires building a model of the joint distribution of potential outcomes $(Y(0), Y(1))$. We assume that the true underlying model for the potential outcomes follows a bivariate Gaussian, \n",
    "\n",
    "$$\n",
    "\\begin{pmatrix}\n",
    "Y_i(0) \\\\\n",
    "Y_i(1) \n",
    "\\end{pmatrix} \\bigg\\lvert~X_i, \\theta \\sim N \\left(\\begin{pmatrix}\n",
    "\\alpha + X_i\\beta_c \\\\\n",
    "\\alpha + X_i\\beta_t + \\tau\n",
    "\\end{pmatrix},\\begin{pmatrix}\n",
    "\\sigma_c^{2} & \\rho\\sigma_c\\sigma_t \\\\\n",
    "\\rho\\sigma_c\\sigma_t & \\sigma_t^{2}\n",
    "\\end{pmatrix}\\right),\n",
    "$$\n",
    "\n",
    "where $\\theta=(\\alpha, \\beta_c, \\beta_t, \\tau, \\sigma_c^2, \\sigma_t^2, \\rho)$.\n",
    "\n",
    "From this model, we can derive the conditional distribution of each potential outcome as\n",
    "\n",
    "\n",
    "\\begin{align*} \n",
    "\\text{Pr}(Y_i(1) | Y_i(0), \\theta, Z_i=0) &\\sim N \\Big(\\mu_t+ \\rho \\frac{\\sigma_t}{\\sigma_c} (Y_i(0)-\\mu_c), \\sigma^2_t(1-\\rho^2)\\Big),\\\\\n",
    "\\text{Pr}(Y_i(0) | Y_i(1), \\theta, Z_i=1) &\\sim N \\Big(\\mu_c+ \\rho \\frac{\\sigma_c}{\\sigma_t} (Y_i(1)-\\mu_t), \\sigma^2_c(1-\\rho^2)\\Big), \n",
    "\\end{align*}\n",
    "\n",
    "where $\\mu_c = \\alpha + X\\beta_c$, and $\\mu_t = \\alpha + X\\beta_t + \\tau$.\n",
    "\n",
    "From the distribution of potential outcomes, we can infer the distribution of any estimand of interest of the form $\\tau = \\tau(Y(0),Y(1), X, Z)$. For instance, the average treatment effect (ATE) can be obtained by simply computing $\\frac{1}{N}\\sum_{i=1}^N(Y_i(1)-Y_i(0))$. This is also known as the \"finite sample\" ATE. If instead, we view the observations as a sample from an infinite super-population, then the super-population ATE is given from the posterior distribution of $\\tau$.\n",
    "\n",
    "A few observations from the model above:\n",
    "\n",
    "* Since $Y_i(0)$ and $Y_i(1)$ are never jointly observed, the correlation between outcomes, $\\rho$, cannot be estimated empirically. It must be based on subject-matter knowledge. Sometimes we may choose to be \"conservative\" about this dependence and therefore assume the worst case. In terms of the posterior variance, the worst case is often the situation of perfect correlation between the two potential outcomes.\n",
    "\n",
    "* There are two sources of uncertainty in the predictive distribution of the missing potential outcomes: the first is the uncertainty in the estimated latent variables (a.k.a., *epistemic uncertainty*), and the second in the uncertainty in the data as expressed by the Gaussian random sampling mechanism (a.k.a., *aleatoric uncertainty*).\n",
    "\n",
    "* We allow for heterogeneous treatment effects - i.e., we define two different vectors $\\beta_c$ and  $\\beta_t$, for control and treated units, respectively. In the **Stan** model below (see `stan_mbi.stan`), this heterogeneity is expressed by including interaction terms between each covariate and the treatment. The posterior estimates on the interaction effects represent the incremental effect of treatment $\\beta_t - \\beta_c$.\n",
    "\n",
    "* The propensity score is considered as an additional covariate in $X$.\n",
    "\n"
   ]
  },
  {
   "cell_type": "code",
   "execution_count": null,
   "metadata": {},
   "outputs": [],
   "source": [
    "X,z, y, a_effects, m_effects, i_effects = pre_process_data(df, standardize_x=False, interactions=True, \n",
    "                                                            p_score=pscore, drop_first=False)\n",
    "\n",
    "# Get indexes of main and interaction effects\n",
    "idx_m_effects = [a_effects.index(i) for i in m_effects]\n",
    "idx_i_effects = [a_effects.index(i) for i in i_effects]\n",
    "\n",
    "print(X.shape)\n",
    "print(len(idx_m_effects))\n",
    "print(len(idx_i_effects))\n",
    "print(X[:,idx_m_effects].shape)\n",
    "print(X[:,idx_i_effects].shape)"
   ]
  },
  {
   "cell_type": "code",
   "execution_count": null,
   "metadata": {},
   "outputs": [],
   "source": [
    "stan_data_mbi = {'N': X.shape[0], \n",
    "                 'N_main_cov':len(idx_m_effects),\n",
    "                 'N_inter_cov':len(idx_i_effects),\n",
    "                 'y': y,\n",
    "                 'z': z,\n",
    "                 'x': X[:,idx_m_effects],\n",
    "                 'xz_inter': X[:,idx_i_effects],\n",
    "                 'rho':0.0}\n",
    "\n",
    "sm = pystan.StanModel('../stan/stan_mbi.stan') \n",
    "multiprocessing.set_start_method(\"fork\", force=True)\n",
    "fit_mbi = sm.sampling(data=stan_data_mbi, iter=1000, chains=4, seed=194838)"
   ]
  },
  {
   "cell_type": "markdown",
   "metadata": {},
   "source": [
    "### 2.5.1 MCMC Diagnostics <a class=\"anchor\" id=\"mcmcdiagn251\"></a>\n"
   ]
  },
  {
   "cell_type": "code",
   "execution_count": null,
   "metadata": {},
   "outputs": [],
   "source": [
    "summary_stan_fit = stan_model_summary(fit_mbi)\n",
    "summary_stan_fit"
   ]
  },
  {
   "cell_type": "code",
   "execution_count": null,
   "metadata": {},
   "outputs": [],
   "source": [
    "r_hat = summary_stan_fit['Rhat']\n",
    "r_hat.plot.hist(title=\"Rhat\")\n",
    "plt.axvline(1.1, color='r', linestyle='--')"
   ]
  },
  {
   "cell_type": "code",
   "execution_count": null,
   "metadata": {},
   "outputs": [],
   "source": [
    "summary_stan_fit['n_eff'].plot.hist(title=\"n_eff\")"
   ]
  },
  {
   "cell_type": "code",
   "execution_count": null,
   "metadata": {},
   "outputs": [],
   "source": [
    "stan_utility.utils.check_treedepth(fit_mbi)"
   ]
  },
  {
   "cell_type": "code",
   "execution_count": null,
   "metadata": {},
   "outputs": [],
   "source": [
    "stan_utility.utils.check_energy(fit_mbi)"
   ]
  },
  {
   "cell_type": "code",
   "execution_count": null,
   "metadata": {},
   "outputs": [],
   "source": [
    "stan_utility.utils.check_div(fit_mbi)"
   ]
  },
  {
   "cell_type": "markdown",
   "metadata": {},
   "source": [
    "### 2.5.2  Effectiveness of Intervention<a class=\"anchor\" id=\"effint252\"></a>\n",
    "\n",
    "Here we address the first study question, which we recall is \"*Was the mindset intervention effective in improving student achievement?*\" This relates to the *Average Treatment Effect (ATE)*. The estimated (finite-sample) **ATE is 0.24 with a 95% uncertainty interval between 0.22 and 0.26. The true value based on the simulation is also 0.24**, so we are right on spot. "
   ]
  },
  {
   "cell_type": "code",
   "execution_count": null,
   "metadata": {},
   "outputs": [],
   "source": [
    "taus = summary_stan_fit.loc[['tau_fs']]\n",
    "taus"
   ]
  },
  {
   "cell_type": "markdown",
   "metadata": {},
   "source": [
    "For comparison purposes, we show below the submitted estimates for average treatment effects and corresponding 95% uncertainty intervals from eight ACIC 2018 challenge participants (Carvalho 2019). Our estimate is closer to the true value relative to all submissions."
   ]
  },
  {
   "cell_type": "code",
   "execution_count": null,
   "metadata": {},
   "outputs": [],
   "source": [
    "Image(filename = \"../img/acic_ate.png\", width = 300, height = 200)"
   ]
  },
  {
   "cell_type": "markdown",
   "metadata": {},
   "source": [
    "### 2.5.3  Treatment effect variation across `X1` and `X2` <a class=\"anchor\" id=\"hetero253\"></a>\n",
    "\n",
    "The second question of the study is directed to assess the treatment effect variation across the two pre-specified moderators, `X1` (pre-existing mindset norms) and `X2` (school level achievement).\n",
    "\n",
    "We look at the posterior estimates of interaction effects `Z x X1` and `Z x X2`. This effect represent the incremental effect of treatment $\\beta_t - \\beta_c$ from `X1` and `X2`. The results depicted below indicate that a higher baseline mindset beliefs tends to be associated with lower treatment effect on average. In contrast, there appears to be no support for treatment effect variation across school achievement levels. "
   ]
  },
  {
   "cell_type": "code",
   "execution_count": null,
   "metadata": {},
   "outputs": [],
   "source": [
    "samples = fit_mbi.extract(permuted=True)\n",
    "\n",
    "Z_X1_samples = samples['beta_inter'][:,i_effects.index('Z_X1')]\n",
    "Z_X2_samples = samples['beta_inter'][:,i_effects.index('Z_X2')]\n",
    "\n",
    "g1 = sns.displot(Z_X1_samples, kind=\"kde\")\n",
    "g1.set_axis_labels(\"Interaction effect (Z x X1) posterior samples\", \n",
    "                  \"Density\", fontsize=10)\n",
    "\n",
    "g2 = sns.displot(Z_X2_samples, kind=\"kde\")\n",
    "g2.set_axis_labels(\"Interaction effect (Z x X2) posterior samples\", \n",
    "                  \"Density\", fontsize=10)"
   ]
  },
  {
   "cell_type": "markdown",
   "metadata": {},
   "source": [
    "For comparisson purpose, we show below the results concerning whether the intervention was moderated by school level achievement (`X2`) from the eight participants. Results are clearly mixed, with half of the participants finding no support for variation across `X2`. The results from our analysis illustrating the uncertainty in the posterior distribution of this effect aligns with the inconclusive results from the participants.  \n",
    "\n",
    "According to the true underlying data generating process, the impact of the intervention varies both on pre-existing mindset norms (`X1`) and school achievement level (`X2`), but without a \"Golfilocks\" effect present. "
   ]
  },
  {
   "cell_type": "code",
   "execution_count": null,
   "metadata": {},
   "outputs": [],
   "source": [
    "Image(filename = \"../img/acic_het.png\", width = 400, height = 300)"
   ]
  },
  {
   "cell_type": "markdown",
   "metadata": {},
   "source": [
    "### 2.5.4 Individual Treatment Effects <a class=\"anchor\" id=\"ite254\"></a>\n",
    "\n",
    "Probably one of the key benefits of the Bayesian approach is that we can get a distribution of the estimated treatment effect for each student (a.k.a., *individual treatment effect*). This is defined as the difference in potential outcomes, $Y(1)_i-Y(0)_i$. We show this for a sample student below."
   ]
  },
  {
   "cell_type": "code",
   "execution_count": null,
   "metadata": {},
   "outputs": [],
   "source": [
    "student = 989\n",
    "ite = samples['tau_unit'][:,student] # same as samples['y1'][:,student] - samples['y0'][:,student]\n",
    "sns.displot(ite, kind=\"kde\")"
   ]
  },
  {
   "cell_type": "markdown",
   "metadata": {},
   "source": [
    "# References <a class=\"anchor\" id=\"ref\"></a>"
   ]
  },
  {
   "cell_type": "markdown",
   "metadata": {},
   "source": [
    "Carvalho, C., Feller, A., Murray, J., Woody, S., and Yeager, D. Assessing Treatment Effect Variation in Observational Studies: Results from a Data Challenge, (2019). https://arxiv.org/abs/1907.07592\n",
    "\n",
    "Donald B. Rubin. Bayesian Inference for Causal Effects: The Role of Randomization. Ann. Statist. 6 (1) 34 - 58 (1978). https://doi.org/10.1214/aos/1176344064\n",
    "\n",
    "Hahn, P.R., Murray, J.S., Carvalho, C.M. Bayesian Regression Tree Models for Causal Inference: Regularization, Confounding, and Heterogeneous Effects (with Discussion). Bayesian Analysis. 15 (3) 965 - 1056 (2020). https://doi.org/10.1214/19-BA1195\n",
    "\n",
    "Hansen, Ben B. The Prognostic Analogue of the Propensity Score. Biometrika 95 (2), 481–88, (2008). https://doi.org/10.1093/biomet/asn004.\n",
    "\n",
    "Yeager, D.S., Hanselman, P., Walton, G.M. et al. A national experiment reveals where a growth mindset improves achievement. Nature 573, 364–369 (2019). https://doi.org/10.1038/s41586-019-1466-y"
   ]
  }
 ],
 "metadata": {
  "kernelspec": {
   "display_name": "Python 3",
   "language": "python",
   "name": "python3"
  },
  "language_info": {
   "codemirror_mode": {
    "name": "ipython",
    "version": 3
   },
   "file_extension": ".py",
   "mimetype": "text/x-python",
   "name": "python",
   "nbconvert_exporter": "python",
   "pygments_lexer": "ipython3",
   "version": "3.8.3"
  }
 },
 "nbformat": 4,
 "nbformat_minor": 4
}
